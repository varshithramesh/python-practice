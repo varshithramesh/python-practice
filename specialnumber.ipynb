{
  "nbformat": 4,
  "nbformat_minor": 0,
  "metadata": {
    "colab": {
      "provenance": []
    },
    "kernelspec": {
      "name": "python3",
      "display_name": "Python 3"
    },
    "language_info": {
      "name": "python"
    }
  },
  "cells": [
    {
      "cell_type": "code",
      "execution_count": 1,
      "metadata": {
        "colab": {
          "base_uri": "https://localhost:8080/",
          "height": 193
        },
        "id": "2hQCuOxBaAiQ",
        "outputId": "877710ef-f065-4e81-8459-ba63ac98c753"
      },
      "outputs": [
        {
          "name": "stdout",
          "output_type": "stream",
          "text": [
            "enter a numberi\n"
          ]
        },
        {
          "output_type": "error",
          "ename": "ValueError",
          "evalue": "invalid literal for int() with base 10: 'i'",
          "traceback": [
            "\u001b[0;31m---------------------------------------------------------------------------\u001b[0m",
            "\u001b[0;31mValueError\u001b[0m                                Traceback (most recent call last)",
            "\u001b[0;32m<ipython-input-1-e50b896febad>\u001b[0m in \u001b[0;36m<cell line: 2>\u001b[0;34m()\u001b[0m\n\u001b[1;32m      1\u001b[0m \u001b[0;31m#program to find a special number\u001b[0m\u001b[0;34m\u001b[0m\u001b[0;34m\u001b[0m\u001b[0m\n\u001b[0;32m----> 2\u001b[0;31m \u001b[0mn\u001b[0m\u001b[0;34m=\u001b[0m\u001b[0mint\u001b[0m\u001b[0;34m(\u001b[0m\u001b[0minput\u001b[0m\u001b[0;34m(\u001b[0m\u001b[0;34m\"enter a number\"\u001b[0m\u001b[0;34m)\u001b[0m\u001b[0;34m)\u001b[0m\u001b[0;34m\u001b[0m\u001b[0;34m\u001b[0m\u001b[0m\n\u001b[0m\u001b[1;32m      3\u001b[0m \u001b[0mm\u001b[0m\u001b[0;34m=\u001b[0m\u001b[0mint\u001b[0m\u001b[0;34m(\u001b[0m\u001b[0minput\u001b[0m\u001b[0;34m(\u001b[0m\u001b[0;34m\"enter a numner\"\u001b[0m\u001b[0;34m)\u001b[0m\u001b[0;34m)\u001b[0m\u001b[0;34m\u001b[0m\u001b[0;34m\u001b[0m\u001b[0m\n",
            "\u001b[0;31mValueError\u001b[0m: invalid literal for int() with base 10: 'i'"
          ]
        }
      ],
      "source": [
        "#program to find a special number\n",
        "n=int(input(\"enter a number\"))\n",
        "m=int(input(\"enter a numner\"))\n"
      ]
    },
    {
      "cell_type": "code",
      "source": [
        "m=int(input())\n",
        "n=int(input())\n",
        "if len(str(m))==2 and len(str(n))==2:\n",
        "    for i in range(m,n+1):\n",
        "         s = str(i)\n",
        "         tens = s[0]\n",
        "         units = s[1]\n",
        "         sum = int(tens) + int(units)\n",
        "         prod = int(tens) * int(units)\n",
        "    if(sum+prod)==int(s):\n",
        "        print(\"\\n\",i,\"-special number\\n\")\n",
        "    else:\n",
        "        print(i, \"-  not a special number\")\n",
        "else:\n",
        "    print(\"  two digits\")"
      ],
      "metadata": {
        "colab": {
          "base_uri": "https://localhost:8080/"
        },
        "id": "oDpuqpdmdtGr",
        "outputId": "64d6df87-6cfb-40dd-b573-94d381687b26"
      },
      "execution_count": 4,
      "outputs": [
        {
          "output_type": "stream",
          "name": "stdout",
          "text": [
            "1\n",
            "9\n",
            "  two digits\n"
          ]
        }
      ]
    },
    {
      "cell_type": "code",
      "source": [
        "n=int(input())\n",
        "x=n//10\n",
        "print(\"first digit is :\",x)\n",
        "y=n%10\n",
        "print(\"second digit is :\",y)\n",
        "sum=x+y\n",
        "product=x*y\n",
        "if (sum+product)==n:\n",
        "    print(\"special number\")\n",
        "else:\n",
        "    print(\"not a special number\")"
      ],
      "metadata": {
        "colab": {
          "base_uri": "https://localhost:8080/"
        },
        "id": "2PqxvwxReEup",
        "outputId": "403ce0a8-4725-424f-a984-af8e3052ee6b"
      },
      "execution_count": 11,
      "outputs": [
        {
          "output_type": "stream",
          "name": "stdout",
          "text": [
            "19\n",
            "first digit is : 1\n",
            "second digit is : 9\n",
            "special number\n"
          ]
        }
      ]
    }
  ]
}