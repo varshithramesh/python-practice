{
  "nbformat": 4,
  "nbformat_minor": 0,
  "metadata": {
    "colab": {
      "provenance": []
    },
    "kernelspec": {
      "name": "python3",
      "display_name": "Python 3"
    },
    "language_info": {
      "name": "python"
    }
  },
  "cells": [
    {
      "cell_type": "code",
      "execution_count": 1,
      "metadata": {
        "id": "Uul4v2fpYGO6",
        "colab": {
          "base_uri": "https://localhost:8080/"
        },
        "outputId": "04156d2e-10ab-4b01-d420-0c86f5738786"
      },
      "outputs": [
        {
          "output_type": "stream",
          "name": "stdout",
          "text": [
            "10\n",
            "2\n",
            "4\n",
            "6\n",
            "8\n",
            "10\n"
          ]
        }
      ],
      "source": [
        "#write a program to print all the even number within given range\n",
        "n=int(input())\n",
        "for i in range(1,n+1):\n",
        "    if i%2==0:\n",
        "        print(i)"
      ]
    }
  ]
}