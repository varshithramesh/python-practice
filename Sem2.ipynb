{
  "nbformat": 4,
  "nbformat_minor": 0,
  "metadata": {
    "colab": {
      "provenance": [],
      "include_colab_link": true
    },
    "kernelspec": {
      "name": "python3",
      "display_name": "Python 3"
    },
    "language_info": {
      "name": "python"
    }
  },
  "cells": [
    {
      "cell_type": "markdown",
      "metadata": {
        "id": "view-in-github",
        "colab_type": "text"
      },
      "source": [
        "<a href=\"https://colab.research.google.com/github/varshithramesh/python-practice/blob/main/Sem2.ipynb\" target=\"_parent\"><img src=\"https://colab.research.google.com/assets/colab-badge.svg\" alt=\"Open In Colab\"/></a>"
      ]
    },
    {
      "cell_type": "code",
      "source": [
        "N=13\n",
        "D=2\n",
        "Low=1\n",
        "High=13\n",
        "while Low<=High:\n",
        "  Mid=(High+Low)//2\n",
        "  sum_digits=sum(int(i)for i in str(Mid))\n",
        "  diff=(Mid-sum_digits)\n",
        "  if diff<=2:\n",
        "    Low=Mid+1\n",
        "  else:\n",
        "    High=Mid-1\n",
        "    result=N-High\n",
        "print(result)"
      ],
      "metadata": {
        "colab": {
          "base_uri": "https://localhost:8080/"
        },
        "id": "aPecp2IAgqXH",
        "outputId": "1e7ba19a-55a0-45dc-8efa-cac484813bde"
      },
      "execution_count": null,
      "outputs": [
        {
          "output_type": "stream",
          "name": "stdout",
          "text": [
            "4\n"
          ]
        }
      ]
    },
    {
      "cell_type": "code",
      "source": [
        "from array import *\n",
        "array1=array('i',[10,20,30,40,50])\n",
        "for x in array1:\n",
        "    print(x)"
      ],
      "metadata": {
        "colab": {
          "base_uri": "https://localhost:8080/"
        },
        "id": "0jJiOpS3lKzw",
        "outputId": "dd25ed91-67a3-4b63-cc0b-7fa3e2e6e047"
      },
      "execution_count": null,
      "outputs": [
        {
          "output_type": "stream",
          "name": "stdout",
          "text": [
            "10\n",
            "20\n",
            "30\n",
            "40\n",
            "50\n"
          ]
        }
      ]
    },
    {
      "cell_type": "code",
      "source": [
        "from array import *\n",
        "array1=array('i',[10,20,30,40,50])\n",
        "print(array1[0])\n",
        "print(array1[1])\n",
        "print(array1[2])\n",
        "print(array1[3])\n",
        "print(array1[4])"
      ],
      "metadata": {
        "colab": {
          "base_uri": "https://localhost:8080/"
        },
        "id": "HL1t9wBYmDQu",
        "outputId": "61d58ac8-0c53-4181-84ac-d7f7650ca314"
      },
      "execution_count": null,
      "outputs": [
        {
          "output_type": "stream",
          "name": "stdout",
          "text": [
            "10\n",
            "20\n",
            "30\n",
            "40\n",
            "50\n"
          ]
        }
      ]
    },
    {
      "cell_type": "code",
      "source": [
        "from array import *\n",
        "array1=array('i',[10,20,30,40,50])\n",
        "array1.insert(1,60)\n",
        "for x in array1:\n",
        "    print(x)"
      ],
      "metadata": {
        "colab": {
          "base_uri": "https://localhost:8080/"
        },
        "id": "eMmaeEwBnXtb",
        "outputId": "8f23e992-7888-4c44-98d5-200c9a41ae0f"
      },
      "execution_count": null,
      "outputs": [
        {
          "output_type": "stream",
          "name": "stdout",
          "text": [
            "10\n",
            "60\n",
            "20\n",
            "30\n",
            "40\n",
            "50\n"
          ]
        }
      ]
    },
    {
      "cell_type": "code",
      "source": [
        "from array import *\n",
        "array1=array('i',[10,20,30,40,50])\n",
        "array1.remove(40)\n",
        "for x in array1:\n",
        "    print(x)"
      ],
      "metadata": {
        "colab": {
          "base_uri": "https://localhost:8080/"
        },
        "id": "tJX66zKBn40r",
        "outputId": "4bbb9fa3-744d-40e8-fd06-735524615d1a"
      },
      "execution_count": null,
      "outputs": [
        {
          "output_type": "stream",
          "name": "stdout",
          "text": [
            "10\n",
            "20\n",
            "30\n",
            "50\n"
          ]
        }
      ]
    },
    {
      "cell_type": "code",
      "source": [
        "from array import *\n",
        "array1=array('i',[10,20,30,40,50])\n",
        "print(array1.index(40))"
      ],
      "metadata": {
        "colab": {
          "base_uri": "https://localhost:8080/"
        },
        "id": "3nGiiDxyoKsT",
        "outputId": "e8b8b901-f276-4453-a2a9-784df500d65a"
      },
      "execution_count": null,
      "outputs": [
        {
          "output_type": "stream",
          "name": "stdout",
          "text": [
            "3\n"
          ]
        }
      ]
    },
    {
      "cell_type": "code",
      "source": [
        "from array import *\n",
        "array1=array('i',[10,20,30,40,50])\n",
        "array1[2]=80\n",
        "for x in array1:\n",
        "    print(x)"
      ],
      "metadata": {
        "colab": {
          "base_uri": "https://localhost:8080/"
        },
        "id": "yOj5SWUUoYZB",
        "outputId": "5210da8a-c6b9-42b2-89b6-1168f1e8e9fb"
      },
      "execution_count": null,
      "outputs": [
        {
          "output_type": "stream",
          "name": "stdout",
          "text": [
            "10\n",
            "20\n",
            "80\n",
            "40\n",
            "50\n"
          ]
        }
      ]
    },
    {
      "source": [
        "def product_of_remaining(arr, n_repeats):\n",
        "  for _ in range(n_repeats):\n",
        "    n = len(arr)\n",
        "    prod_arr = []\n",
        "    for i in range(n):\n",
        "      product = 1\n",
        "      for j in range(n):\n",
        "        if i != j:\n",
        "          product *= arr[j]\n",
        "      prod_arr.append(product)\n",
        "    arr = prod_arr\n",
        "  return prod_arr\n",
        "arr = [1, 2, 3, 4, 5]\n",
        "n_repeats = 3\n",
        "prod_arr = product_of_remaining(arr, n_repeats)\n",
        "print(prod_arr)"
      ],
      "cell_type": "code",
      "metadata": {
        "colab": {
          "base_uri": "https://localhost:8080/"
        },
        "id": "FWN5vGxYrgVw",
        "outputId": "ba4c4ad8-0e66-430c-fa2d-7a3ac2d2b7ea"
      },
      "execution_count": null,
      "outputs": [
        {
          "output_type": "stream",
          "name": "stdout",
          "text": [
            "[1069932053790720000000000000, 534966026895360000000000000, 356644017930240000000000000, 267483013447680000000000000, 213986410758144000000000000]\n"
          ]
        }
      ]
    },
    {
      "source": [
        "from array import *\n",
        "array1 = array('i', [10, 20, 30, 40, 50])\n",
        "type(array1)\n",
        "min_value = min(array1)\n",
        "max_value = max(array1)\n",
        "sum_values = sum(array1)\n",
        "len_values = len(array1)\n",
        "avrage_values = sum_values / len_values\n",
        "reverse_value=array1[::-1]\n",
        "print(type(array1))\n",
        "print(\"min:\",ooooooooooooooomin_value)\n",
        "print(max_value)\n",
        "print(sum_values)\n",
        "print(len_values)\n",
        "print(avrage_values)\n",
        "print(reverse_value)"
      ],
      "cell_type": "code",
      "metadata": {
        "colab": {
          "base_uri": "https://localhost:8080/"
        },
        "id": "SNtJTIwRA7el",
        "outputId": "4c86ae16-b02d-467a-d5e5-823c609c8a60"
      },
      "execution_count": 1,
      "outputs": [
        {
          "output_type": "stream",
          "name": "stdout",
          "text": [
            "<class 'array.array'>\n",
            "min: 10\n",
            "50\n",
            "150\n",
            "5\n",
            "30.0\n",
            "array('i', [50, 40, 30, 20, 10])\n"
          ]
        }
      ]
    }
  ]
}