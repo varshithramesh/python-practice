{
  "nbformat": 4,
  "nbformat_minor": 0,
  "metadata": {
    "colab": {
      "provenance": [],
      "authorship_tag": "ABX9TyNYbGlDCtkg8UO4lAA1HurA",
      "include_colab_link": true
    },
    "kernelspec": {
      "name": "python3",
      "display_name": "Python 3"
    },
    "language_info": {
      "name": "python"
    }
  },
  "cells": [
    {
      "cell_type": "markdown",
      "metadata": {
        "id": "view-in-github",
        "colab_type": "text"
      },
      "source": [
        "<a href=\"https://colab.research.google.com/github/varshithramesh/python-practice/blob/main/factorial.ipynb\" target=\"_parent\"><img src=\"https://colab.research.google.com/assets/colab-badge.svg\" alt=\"Open In Colab\"/></a>"
      ]
    },
    {
      "cell_type": "code",
      "source": [
        "#factorial\n",
        "import math\n",
        "n = 145\n",
        "x = n//100\n",
        "print(x)\n",
        "y = (n%100)//10\n",
        "print(y)\n",
        "z = n%10\n",
        "f1 = math.factorial(x)\n",
        "f2 = math.factorial(y)\n",
        "f3 = math.factorial(z)\n",
        "print(z)\n",
        "print(f1)\n",
        "print(f2)\n",
        "print(f3)\n",
        "print(f1+f2+f3)\n",
        "if f1+f2+f3 == n:\n",
        "  print(n, \"it is a strong number\")\n",
        "else:\n",
        "  print(n, \"it is not a strong number\")"
      ],
      "metadata": {
        "id": "xbDDEQxkksko"
      },
      "execution_count": null,
      "outputs": []
    }
  ]
}