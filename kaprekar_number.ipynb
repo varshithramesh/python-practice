{
  "nbformat": 4,
  "nbformat_minor": 0,
  "metadata": {
    "colab": {
      "provenance": [],
      "authorship_tag": "ABX9TyNG2bG1LeCZqXTo+NN1EsMo",
      "include_colab_link": true
    },
    "kernelspec": {
      "name": "python3",
      "display_name": "Python 3"
    },
    "language_info": {
      "name": "python"
    }
  },
  "cells": [
    {
      "cell_type": "markdown",
      "metadata": {
        "id": "view-in-github",
        "colab_type": "text"
      },
      "source": [
        "<a href=\"https://colab.research.google.com/github/varshithramesh/python-practice/blob/main/kaprekar_number.ipynb\" target=\"_parent\"><img src=\"https://colab.research.google.com/assets/colab-badge.svg\" alt=\"Open In Colab\"/></a>"
      ]
    },
    {
      "cell_type": "code",
      "execution_count": 2,
      "metadata": {
        "colab": {
          "base_uri": "https://localhost:8080/"
        },
        "id": "qXQNNrfSIqRG",
        "outputId": "5c375217-cd9c-4f00-c76f-49e3fb33bcff"
      },
      "outputs": [
        {
          "output_type": "stream",
          "name": "stdout",
          "text": [
            "297\n",
            "kaprekar number\n"
          ]
        }
      ],
      "source": [
        "#program to find whether the given number is a kaprekar number or not\n",
        "n = int(input())\n",
        "s = n*n\n",
        "s_str = str(s)\n",
        "l = len(s_str)\n",
        "left = int(s_str[:l//2]) if l//2 > 0 else 0\n",
        "right = int(s_str[l//2:])\n",
        "if left + right == n:\n",
        "    print(\"kaprekar number\")\n",
        "else:\n",
        "    print(\"not a kaprekar number\")"
      ]
    }
  ]
}