{
  "nbformat": 4,
  "nbformat_minor": 0,
  "metadata": {
    "colab": {
      "provenance": []
    },
    "kernelspec": {
      "name": "python3",
      "display_name": "Python 3"
    },
    "language_info": {
      "name": "python"
    }
  },
  "cells": [
    {
      "cell_type": "code",
      "execution_count": 3,
      "metadata": {
        "colab": {
          "base_uri": "https://localhost:8080/"
        },
        "id": "ZhoqeqEORgIg",
        "outputId": "a8276369-4762-4acf-ff46-8ffdaeb81403"
      },
      "outputs": [
        {
          "output_type": "stream",
          "name": "stdout",
          "text": [
            "0\n",
            "1\n",
            "2\n"
          ]
        }
      ],
      "source": [
        "n=0\n",
        "for i in range(5):\n",
        "  if i==3:\n",
        "    break\n",
        "  print(i)"
      ]
    },
    {
      "cell_type": "code",
      "source": [
        "#using pass/break and continue in looping statement\n",
        "for i in range(5):\n",
        "  if i==2:\n",
        "    pass\n",
        "  print(i)"
      ],
      "metadata": {
        "colab": {
          "base_uri": "https://localhost:8080/"
        },
        "id": "6V6Xo2-bSf1N",
        "outputId": "cb8c626d-6cbb-41fd-83ff-16373e1e6264"
      },
      "execution_count": 6,
      "outputs": [
        {
          "output_type": "stream",
          "name": "stdout",
          "text": [
            "0\n",
            "1\n",
            "2\n",
            "3\n",
            "4\n"
          ]
        }
      ]
    },
    {
      "cell_type": "code",
      "source": [
        "x = [10, 20, 25, 30, 35, 40]\n",
        "for i in x:\n",
        "  if i%2!=0:\n",
        "    print(i, \": odd\")\n",
        "  else:\n",
        "      pass\n"
      ],
      "metadata": {
        "colab": {
          "base_uri": "https://localhost:8080/"
        },
        "id": "Y3cggsLZTxDI",
        "outputId": "8ba45208-118a-46e0-bba9-c8914028023b"
      },
      "execution_count": 12,
      "outputs": [
        {
          "output_type": "stream",
          "name": "stdout",
          "text": [
            "25 : odd\n",
            "35 : odd\n"
          ]
        }
      ]
    },
    {
      "cell_type": "code",
      "source": [],
      "metadata": {
        "id": "8hYfShPwaQAB"
      },
      "execution_count": null,
      "outputs": []
    },
    {
      "cell_type": "code",
      "source": [
        "#write a program to find how many digits in the given number\n",
        "n = int(input())\n",
        "count = 0\n",
        "while n!=0:\n",
        "  n//=10\n",
        "  count+=1\n",
        "print(count)"
      ],
      "metadata": {
        "colab": {
          "base_uri": "https://localhost:8080/"
        },
        "id": "S3cSLB_OU5Nq",
        "outputId": "3a2e9fca-dfbc-43d9-f9a6-f952f47f2cee"
      },
      "execution_count": 13,
      "outputs": [
        {
          "output_type": "stream",
          "name": "stdout",
          "text": [
            "515\n",
            "3\n"
          ]
        }
      ]
    },
    {
      "cell_type": "code",
      "source": [
        "#multiplication table\n",
        "n=0\n",
        "n=int(input())\n",
        "m=int(input())\n",
        "for i in range(1,m+1):\n",
        "  p = n*i\n",
        "  print(n, \"*\", i, \"=\", p)"
      ],
      "metadata": {
        "colab": {
          "base_uri": "https://localhost:8080/"
        },
        "id": "FSCtFsftcVAu",
        "outputId": "480da1fa-f8f4-4472-a3b5-1e5e0f8fe0b2"
      },
      "execution_count": 14,
      "outputs": [
        {
          "output_type": "stream",
          "name": "stdout",
          "text": [
            "5\n",
            "4\n",
            "5 * 1 = 5\n",
            "5 * 2 = 10\n",
            "5 * 3 = 15\n",
            "5 * 4 = 20\n"
          ]
        }
      ]
    },
    {
      "cell_type": "code",
      "source": [],
      "metadata": {
        "id": "cPjuecTLeh46"
      },
      "execution_count": null,
      "outputs": []
    },
    {
      "cell_type": "code",
      "source": [],
      "metadata": {
        "id": "o9PDwaSid3zt"
      },
      "execution_count": null,
      "outputs": []
    }
  ]
}