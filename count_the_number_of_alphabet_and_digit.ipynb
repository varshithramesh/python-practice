{
  "nbformat": 4,
  "nbformat_minor": 0,
  "metadata": {
    "colab": {
      "provenance": []
    },
    "kernelspec": {
      "name": "python3",
      "display_name": "Python 3"
    },
    "language_info": {
      "name": "python"
    }
  },
  "cells": [
    {
      "cell_type": "code",
      "execution_count": 1,
      "metadata": {
        "colab": {
          "base_uri": "https://localhost:8080/"
        },
        "id": "VMdBmn-4T7gt",
        "outputId": "2e372107-708a-4f14-9e8b-b16c2f556387"
      },
      "outputs": [
        {
          "output_type": "stream",
          "name": "stdout",
          "text": [
            "varshit2024\n",
            "7 4\n"
          ]
        }
      ],
      "source": [
        "#count the number of alphabet and digit which is present in a given string\n",
        "s = str(input())\n",
        "count_alpha = 0\n",
        "count_digit = 0\n",
        "for i in s:\n",
        "    if i.isalpha():\n",
        "        count_alpha += 1\n",
        "    elif i.isdigit():\n",
        "        count_digit += 1\n",
        "print(count_alpha,count_digit)"
      ]
    }
  ]
}