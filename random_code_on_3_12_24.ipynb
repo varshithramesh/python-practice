{
  "nbformat": 4,
  "nbformat_minor": 0,
  "metadata": {
    "colab": {
      "provenance": [],
      "authorship_tag": "ABX9TyMJW0UjykM9XKcRBtkWiH8Z",
      "include_colab_link": true
    },
    "kernelspec": {
      "name": "python3",
      "display_name": "Python 3"
    },
    "language_info": {
      "name": "python"
    }
  },
  "cells": [
    {
      "cell_type": "markdown",
      "metadata": {
        "id": "view-in-github",
        "colab_type": "text"
      },
      "source": [
        "<a href=\"https://colab.research.google.com/github/varshithramesh/python-practice/blob/main/random_code_on_3_12_24.ipynb\" target=\"_parent\"><img src=\"https://colab.research.google.com/assets/colab-badge.svg\" alt=\"Open In Colab\"/></a>"
      ]
    },
    {
      "cell_type": "code",
      "execution_count": null,
      "metadata": {
        "colab": {
          "base_uri": "https://localhost:8080/"
        },
        "id": "vauoQiUX_gcu",
        "outputId": "485b3a45-3847-47cd-c5ba-338e0692b697"
      },
      "outputs": [
        {
          "output_type": "stream",
          "name": "stdout",
          "text": [
            "Enter the number of rows: 6\n",
            "          1  \n",
            "        1  1  \n",
            "      1  2  1  \n",
            "    1  3  3  1  \n",
            "  1  4  6  4  1  \n",
            "1  5  10  10  5  1  \n"
          ]
        }
      ],
      "source": [
        "def pascal(n):\n",
        "    for i in range(0, n):\n",
        "        spaces = \"  \" * (n - i - 1)\n",
        "        print(spaces, end=\"\")\n",
        "\n",
        "        for j in range(0, i + 1):\n",
        "            print(fact(i) // (fact(j) * fact(i - j)), end=\"  \")\n",
        "        print()\n",
        "\n",
        "def fact(n):\n",
        "    res = 1\n",
        "    for i in range(2, n + 1):\n",
        "        res = res * i\n",
        "    return res\n",
        "\n",
        "n = int(input(\"Enter the number of rows: \"))\n",
        "pascal(n)"
      ]
    },
    {
      "cell_type": "code",
      "source": [
        "#Write a program to find the even numbers in a given list.\n",
        "def even(list):\n",
        "  even_list=[]\n",
        "  for i in list:\n",
        "    if i%2==0:\n",
        "      even_list.append(i)\n",
        "  return even_list\n",
        "\n",
        "list=[28,56,72,55,0,101]\n",
        "print(even(list))"
      ],
      "metadata": {
        "colab": {
          "base_uri": "https://localhost:8080/"
        },
        "id": "bYyIyX9TIQJi",
        "outputId": "3892e8f0-b3f1-484d-def0-f98e4169d112"
      },
      "execution_count": 2,
      "outputs": [
        {
          "output_type": "stream",
          "name": "stdout",
          "text": [
            "[28, 56, 72, 0]\n"
          ]
        }
      ]
    }
  ]
}