{
  "nbformat": 4,
  "nbformat_minor": 0,
  "metadata": {
    "colab": {
      "provenance": [],
      "authorship_tag": "ABX9TyOjCvTo+VCq/DfiUjgr8A4K",
      "include_colab_link": true
    },
    "kernelspec": {
      "name": "python3",
      "display_name": "Python 3"
    },
    "language_info": {
      "name": "python"
    }
  },
  "cells": [
    {
      "cell_type": "markdown",
      "metadata": {
        "id": "view-in-github",
        "colab_type": "text"
      },
      "source": [
        "<a href=\"https://colab.research.google.com/github/varshithramesh/python-practice/blob/main/special_number_bw_the_given_range.ipynb\" target=\"_parent\"><img src=\"https://colab.research.google.com/assets/colab-badge.svg\" alt=\"Open In Colab\"/></a>"
      ]
    },
    {
      "cell_type": "code",
      "source": [
        "n = int(input())\n",
        "m = int(input())\n",
        "for i in range(n, m+1):\n",
        "  sum = n+m\n",
        "  product = n*m\n",
        "if (sum + product) == i:\n",
        "  print(i, \"it is a special number\")\n",
        "else:\n",
        "    print(i, \"it is not a special number\")"
      ],
      "metadata": {
        "colab": {
          "base_uri": "https://localhost:8080/"
        },
        "id": "XxCqQz-AkC32",
        "outputId": "ecca0165-bf73-4fe6-dbd9-8d9269b796c4"
      },
      "execution_count": 4,
      "outputs": [
        {
          "output_type": "stream",
          "name": "stdout",
          "text": [
            "11\n",
            "19\n",
            "19 it is not a special number\n"
          ]
        }
      ]
    },
    {
      "cell_type": "code",
      "source": [],
      "metadata": {
        "id": "xbDDEQxkksko"
      },
      "execution_count": null,
      "outputs": []
    }
  ]
}