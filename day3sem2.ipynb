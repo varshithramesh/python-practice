{
  "nbformat": 4,
  "nbformat_minor": 0,
  "metadata": {
    "colab": {
      "provenance": [],
      "include_colab_link": true
    },
    "kernelspec": {
      "name": "python3",
      "display_name": "Python 3"
    },
    "language_info": {
      "name": "python"
    }
  },
  "cells": [
    {
      "cell_type": "markdown",
      "metadata": {
        "id": "view-in-github",
        "colab_type": "text"
      },
      "source": [
        "<a href=\"https://colab.research.google.com/github/varshithramesh/python-practice/blob/main/day3sem2.ipynb\" target=\"_parent\"><img src=\"https://colab.research.google.com/assets/colab-badge.svg\" alt=\"Open In Colab\"/></a>"
      ]
    },
    {
      "cell_type": "code",
      "execution_count": null,
      "metadata": {
        "colab": {
          "base_uri": "https://localhost:8080/"
        },
        "id": "h8iT4lZeJDZN",
        "outputId": "4a0c8fb1-39e1-414f-f213-386ef2e9d4de"
      },
      "outputs": [
        {
          "output_type": "stream",
          "name": "stdout",
          "text": [
            "<class 'array.array'>\n",
            "5\n",
            "4\n",
            "3\n",
            "2\n",
            "1\n",
            "0\n",
            "1\n",
            "3\n"
          ]
        }
      ],
      "source": [
        "import array as arr\n",
        "x=arr.array('i',[1,5,3,7,3,2])\n",
        "print(type(x))\n",
        "n=len(x)\n",
        "for i in range(n-1,-1,-1):\n",
        "  print(i)\n",
        "print(x[0])\n",
        "print(x[4])"
      ]
    },
    {
      "cell_type": "code",
      "source": [
        "import numpy as np\n",
        "x=np.array([1,5,3,7,3,2])\n",
        "print(type(x))\n",
        "n=len(x)\n",
        "for i in range(n-1,-1,-1):\n",
        "  print(i)"
      ],
      "metadata": {
        "colab": {
          "base_uri": "https://localhost:8080/"
        },
        "id": "WiG-hsj_Jvra",
        "outputId": "84ea619c-a60a-484b-aa5b-cdb346ac2cf4"
      },
      "execution_count": null,
      "outputs": [
        {
          "output_type": "stream",
          "name": "stdout",
          "text": [
            "<class 'numpy.ndarray'>\n",
            "5\n",
            "4\n",
            "3\n",
            "2\n",
            "1\n",
            "0\n"
          ]
        }
      ]
    },
    {
      "cell_type": "code",
      "source": [
        "import numpy as np\n",
        "y=np.array([10,20,30,40,50])\n",
        "np.insert(y,2,300)\n",
        "for i in y:\n",
        "  print(i)"
      ],
      "metadata": {
        "colab": {
          "base_uri": "https://localhost:8080/"
        },
        "id": "DIWRr01PK1wL",
        "outputId": "1f708e85-137c-4d47-fbd2-4631007399d9"
      },
      "execution_count": null,
      "outputs": [
        {
          "output_type": "stream",
          "name": "stdout",
          "text": [
            "10\n",
            "20\n",
            "30\n",
            "40\n",
            "50\n"
          ]
        }
      ]
    },
    {
      "cell_type": "code",
      "source": [
        "import numpy as np\n",
        "x=np.array([10,20,30,40,50])\n",
        "def min_max(x):\n",
        "  mine_e=np.min(x)\n",
        "  max_e=np.max(x)\n",
        "  return mine_e,max_e\n",
        "result=min_max(x)\n",
        "print(result)"
      ],
      "metadata": {
        "colab": {
          "base_uri": "https://localhost:8080/"
        },
        "id": "hK-NN9U5MPF6",
        "outputId": "3b02473a-b934-42d4-e548-99a98c6290a0"
      },
      "execution_count": null,
      "outputs": [
        {
          "output_type": "stream",
          "name": "stdout",
          "text": [
            "(10, 50)\n"
          ]
        }
      ]
    },
    {
      "cell_type": "code",
      "source": [
        "import numpy as np\n",
        "x=np.array([10,20,30,40,50])\n",
        "def average(x):\n",
        "  sum_e=np.sum(x)\n",
        "  len_e=len(x)\n",
        "  avg=sum_e/len_e\n",
        "  return avg\n",
        "result=average(x)\n",
        "print(result)"
      ],
      "metadata": {
        "colab": {
          "base_uri": "https://localhost:8080/"
        },
        "id": "ph90YZiJNURd",
        "outputId": "31dc0068-b4a9-44d5-a553-b3455cc67011"
      },
      "execution_count": null,
      "outputs": [
        {
          "output_type": "stream",
          "name": "stdout",
          "text": [
            "30.0\n"
          ]
        }
      ]
    },
    {
      "cell_type": "code",
      "source": [
        "import numpy as np\n",
        "x=np.array([10,10,20,20,30,30,40,40,50,50])\n",
        "def r_dup(x):\n",
        "  new_arr=[]#looping method\n",
        "  for i in x:\n",
        "    if i not in new_arr:\n",
        "      new_arr.append(i)\n",
        "  return new_arr\n",
        "result=r_dup(x)\n",
        "print(type(result))\n",
        "print(result)"
      ],
      "metadata": {
        "colab": {
          "base_uri": "https://localhost:8080/"
        },
        "id": "_4Ww-sYDO4iZ",
        "outputId": "eab83e65-703c-4431-8206-f2b9a1c385a7"
      },
      "execution_count": null,
      "outputs": [
        {
          "output_type": "stream",
          "name": "stdout",
          "text": [
            "<class 'list'>\n",
            "[10, 20, 30, 40, 50]\n"
          ]
        }
      ]
    }
  ]
}