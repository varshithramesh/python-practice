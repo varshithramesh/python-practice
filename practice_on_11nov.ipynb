{
  "nbformat": 4,
  "nbformat_minor": 0,
  "metadata": {
    "colab": {
      "provenance": [],
      "authorship_tag": "ABX9TyNj/5NKRalLVxlkIp1UztlI",
      "include_colab_link": true
    },
    "kernelspec": {
      "name": "python3",
      "display_name": "Python 3"
    },
    "language_info": {
      "name": "python"
    }
  },
  "cells": [
    {
      "cell_type": "markdown",
      "metadata": {
        "id": "view-in-github",
        "colab_type": "text"
      },
      "source": [
        "<a href=\"https://colab.research.google.com/github/varshithramesh/python-practice/blob/main/practice_on_11nov.ipynb\" target=\"_parent\"><img src=\"https://colab.research.google.com/assets/colab-badge.svg\" alt=\"Open In Colab\"/></a>"
      ]
    },
    {
      "cell_type": "code",
      "execution_count": 4,
      "metadata": {
        "colab": {
          "base_uri": "https://localhost:8080/"
        },
        "id": "SsOBQZMSawqy",
        "outputId": "05fa0be1-0f1a-4f6e-919a-e2b58520e323"
      },
      "outputs": [
        {
          "output_type": "stream",
          "name": "stdout",
          "text": [
            "yes\n"
          ]
        }
      ],
      "source": [
        "a=[10,20,30,40]\n",
        "for i in a:\n",
        "  if i==30:\n",
        "    print(\"yes\")\n",
        "    break\n",
        "else:\n",
        "    print(\"no\")"
      ]
    },
    {
      "cell_type": "code",
      "source": [
        "30 in a"
      ],
      "metadata": {
        "colab": {
          "base_uri": "https://localhost:8080/"
        },
        "id": "9nVHf81ZbIgm",
        "outputId": "bab117bd-a7fb-49c0-e7c6-7be1c6736cdc"
      },
      "execution_count": 5,
      "outputs": [
        {
          "output_type": "execute_result",
          "data": {
            "text/plain": [
              "True"
            ]
          },
          "metadata": {},
          "execution_count": 5
        }
      ]
    },
    {
      "cell_type": "code",
      "source": [
        "a.index(30)"
      ],
      "metadata": {
        "colab": {
          "base_uri": "https://localhost:8080/"
        },
        "id": "TKhPhditb9oF",
        "outputId": "eab5cc50-3544-4ad4-8823-ded51dc61287"
      },
      "execution_count": 6,
      "outputs": [
        {
          "output_type": "execute_result",
          "data": {
            "text/plain": [
              "2"
            ]
          },
          "metadata": {},
          "execution_count": 6
        }
      ]
    },
    {
      "cell_type": "code",
      "source": [
        "for i in range(len(a)):\n",
        "  if a[i]==30:\n",
        "    print(i)\n",
        "    break\n"
      ],
      "metadata": {
        "colab": {
          "base_uri": "https://localhost:8080/"
        },
        "id": "Q6Vsp0GmcID6",
        "outputId": "d04fab81-7e68-4122-8ed2-17e134c96f7d"
      },
      "execution_count": 10,
      "outputs": [
        {
          "output_type": "stream",
          "name": "stdout",
          "text": [
            "2\n"
          ]
        }
      ]
    },
    {
      "cell_type": "code",
      "source": [
        "a=[10,20,30,40,30]\n",
        "for i in range(len(a)):\n",
        "  if a[i]==30:\n",
        "    print(i)"
      ],
      "metadata": {
        "colab": {
          "base_uri": "https://localhost:8080/"
        },
        "id": "tb4ombTyc0Ip",
        "outputId": "f695a6fc-e57f-46ac-9019-66ae3f507328"
      },
      "execution_count": 14,
      "outputs": [
        {
          "output_type": "stream",
          "name": "stdout",
          "text": [
            "2\n",
            "4\n"
          ]
        }
      ]
    },
    {
      "cell_type": "code",
      "source": [
        "i=[10,20,30,40,50,60,70,80,90,100]\n",
        "i.index(100)\n"
      ],
      "metadata": {
        "colab": {
          "base_uri": "https://localhost:8080/"
        },
        "id": "zpzye9zZel2y",
        "outputId": "ad15f0c9-1e71-4be0-9951-05ea01e63d38"
      },
      "execution_count": 13,
      "outputs": [
        {
          "output_type": "execute_result",
          "data": {
            "text/plain": [
              "9"
            ]
          },
          "metadata": {},
          "execution_count": 13
        }
      ]
    },
    {
      "cell_type": "code",
      "source": [
        "i=[10,20,30,40,50,60,70,80,90,100]\n",
        "i[-1]"
      ],
      "metadata": {
        "colab": {
          "base_uri": "https://localhost:8080/"
        },
        "id": "Odh4u6k1e1QO",
        "outputId": "e86dc279-7e74-4acc-de4a-1cd6f5adec13"
      },
      "execution_count": 18,
      "outputs": [
        {
          "output_type": "execute_result",
          "data": {
            "text/plain": [
              "100"
            ]
          },
          "metadata": {},
          "execution_count": 18
        }
      ]
    },
    {
      "cell_type": "code",
      "source": [
        "element=[]\n",
        "element"
      ],
      "metadata": {
        "colab": {
          "base_uri": "https://localhost:8080/"
        },
        "id": "J6ildEjPf7lr",
        "outputId": "d8553c67-32fe-4558-d902-3f19139ee891"
      },
      "execution_count": 19,
      "outputs": [
        {
          "output_type": "execute_result",
          "data": {
            "text/plain": [
              "[]"
            ]
          },
          "metadata": {},
          "execution_count": 19
        }
      ]
    },
    {
      "cell_type": "code",
      "source": [
        "a=[1,2,45,65,65,5,54,54,54,23]\n",
        "print(a)\n"
      ],
      "metadata": {
        "colab": {
          "base_uri": "https://localhost:8080/"
        },
        "id": "5ojbYT0qgmuf",
        "outputId": "c9c11737-28c3-49ca-ed41-2d0f05976306"
      },
      "execution_count": 20,
      "outputs": [
        {
          "output_type": "stream",
          "name": "stdout",
          "text": [
            "[1, 2, 45, 65, 65, 5, 54, 54, 54, 23]\n"
          ]
        }
      ]
    },
    {
      "cell_type": "code",
      "source": [
        "a=[0.2,0.4,0.5,0.4098]\n",
        "print(a)"
      ],
      "metadata": {
        "colab": {
          "base_uri": "https://localhost:8080/"
        },
        "id": "V8kEfgfjgzhJ",
        "outputId": "7624950a-d3f2-4bd5-b5e4-2590ba10aa8e"
      },
      "execution_count": 22,
      "outputs": [
        {
          "output_type": "stream",
          "name": "stdout",
          "text": [
            "[0.2, 0.4, 0.5, 0.4098]\n"
          ]
        }
      ]
    },
    {
      "cell_type": "code",
      "source": [
        "A=[\"a\",\"b\",\"c\",'d']\n",
        "print(A)"
      ],
      "metadata": {
        "colab": {
          "base_uri": "https://localhost:8080/"
        },
        "id": "8sZdOS8Eg9gK",
        "outputId": "a9d1272a-cde5-4212-fdfe-7c10ec31b352"
      },
      "execution_count": 24,
      "outputs": [
        {
          "output_type": "stream",
          "name": "stdout",
          "text": [
            "['a', 'b', 'c', 'd']\n"
          ]
        }
      ]
    },
    {
      "cell_type": "code",
      "source": [
        "s=[\"string\",\"float\",\"integer\",\"bolean\"]\n",
        "print(s)"
      ],
      "metadata": {
        "colab": {
          "base_uri": "https://localhost:8080/"
        },
        "id": "vJeEck_thdI3",
        "outputId": "45daa63e-a5a5-4069-dc26-ca2721e33c6a"
      },
      "execution_count": 25,
      "outputs": [
        {
          "output_type": "stream",
          "name": "stdout",
          "text": [
            "['string', 'float', 'integer', 'bolean']\n"
          ]
        }
      ]
    },
    {
      "cell_type": "code",
      "source": [
        "info=[\"varshith\",\"python\",\"a\",\"91\"]\n",
        "print(info)"
      ],
      "metadata": {
        "colab": {
          "base_uri": "https://localhost:8080/"
        },
        "id": "n3pqvIY8iAkb",
        "outputId": "253e94f9-6557-48ff-dbdc-838d5fc6c19e"
      },
      "execution_count": 1,
      "outputs": [
        {
          "output_type": "stream",
          "name": "stdout",
          "text": [
            "['varshith', 'python', 'a', '91']\n"
          ]
        }
      ]
    },
    {
      "cell_type": "code",
      "source": [
        "info=[\"varshith\",\"python\",\"a\",\"91\"]\n",
        "print(info[0])"
      ],
      "metadata": {
        "colab": {
          "base_uri": "https://localhost:8080/"
        },
        "id": "orT3ywJniixu",
        "outputId": "2edb4a3e-59be-493c-ae17-279fdc04f0b2"
      },
      "execution_count": 2,
      "outputs": [
        {
          "output_type": "stream",
          "name": "stdout",
          "text": [
            "varshith\n"
          ]
        }
      ]
    },
    {
      "cell_type": "code",
      "source": [
        "info[1]=\"xyz\"\n",
        "print(info)"
      ],
      "metadata": {
        "colab": {
          "base_uri": "https://localhost:8080/"
        },
        "id": "tK9XWUBtio9S",
        "outputId": "90f35817-eb78-4182-aae4-ab965c8f8c1d"
      },
      "execution_count": 3,
      "outputs": [
        {
          "output_type": "stream",
          "name": "stdout",
          "text": [
            "['varshith', 'xyz', 'a', '91']\n"
          ]
        }
      ]
    },
    {
      "cell_type": "code",
      "source": [
        "info +=\"hello\"\n",
        "print(info)"
      ],
      "metadata": {
        "colab": {
          "base_uri": "https://localhost:8080/"
        },
        "id": "qIerabGJjB_U",
        "outputId": "c40eafba-609a-46f5-e0fe-36741988b398"
      },
      "execution_count": 4,
      "outputs": [
        {
          "output_type": "stream",
          "name": "stdout",
          "text": [
            "['varshith', 'xyz', 'a', '91', 'h', 'e', 'l', 'l', 'o']\n"
          ]
        }
      ]
    }
  ]
}